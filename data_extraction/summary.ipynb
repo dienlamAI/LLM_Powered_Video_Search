{
 "cells": [
  {
   "cell_type": "code",
   "execution_count": null,
   "metadata": {},
   "outputs": [],
   "source": [
    "!pip install -U -q google-generativeai"
   ]
  },
  {
   "cell_type": "code",
   "execution_count": null,
   "metadata": {},
   "outputs": [],
   "source": [
    "import google.generativeai as genai\n",
    "import os\n",
    "import time"
   ]
  },
  {
   "cell_type": "code",
   "execution_count": null,
   "metadata": {},
   "outputs": [],
   "source": [
    "folder_path = './media/pack1-groupA'\n",
    "all_files = os.listdir(folder_path)\n",
    "all_files.sort(key=lambda x: int(x.split('-')[2]))\n"
   ]
  },
  {
   "cell_type": "code",
   "execution_count": null,
   "metadata": {},
   "outputs": [],
   "source": [
    "with open(\"./key_gemini.txt\", \"r\") as f:\n",
    "    api = f.read()\n",
    "GOOGLE_API_KEY = api\n",
    "\n",
    "genai.configure(api_key=GOOGLE_API_KEY)\n",
    "model = genai.GenerativeModel('gemini-1.0-pro')"
   ]
  },
  {
   "cell_type": "code",
   "execution_count": null,
   "metadata": {},
   "outputs": [],
   "source": [
    "def get_content(file_path):\n",
    "    with open(file_path, 'r', encoding='utf-8') as file:\n",
    "        content = file.read()\n",
    "        return content\n",
    "query = 'Tôi đang xây dựng một hệ thống search video bằng text, image, ocr, asr, caption, object, color, tag. Hãy phân loại các câu query là dạng câu query như thế nào?'\n",
    "summary = ''\n",
    "for file in all_files:\n",
    "    file_path = os.path.join(folder_path, file)\n",
    "    content = get_content(file_path)\n",
    "    print(file)\n",
    "    time.sleep(1)\n",
    "    response = model.generate_content(query + content)\n",
    "    summary += f\"Namefile: {file}\\nPhân loại: {response.text}\\nQuery: {content}\\n\\n\"\n",
    "\n"
   ]
  },
  {
   "cell_type": "code",
   "execution_count": null,
   "metadata": {},
   "outputs": [],
   "source": [
    "with open('summary.txt', 'w') as file:\n",
    "    file.write(summary)"
   ]
  }
 ],
 "metadata": {
  "kernelspec": {
   "display_name": ".e",
   "language": "python",
   "name": "python3"
  },
  "language_info": {
   "codemirror_mode": {
    "name": "ipython",
    "version": 3
   },
   "file_extension": ".py",
   "mimetype": "text/x-python",
   "name": "python",
   "nbconvert_exporter": "python",
   "pygments_lexer": "ipython3",
   "version": "3.11.4"
  }
 },
 "nbformat": 4,
 "nbformat_minor": 2
}
