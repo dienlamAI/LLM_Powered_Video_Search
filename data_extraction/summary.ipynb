{
 "cells": [
  {
   "cell_type": "code",
   "execution_count": 1,
   "metadata": {},
   "outputs": [
    {
     "name": "stderr",
     "output_type": "stream",
     "text": [
      "ERROR: pip's dependency resolver does not currently take into account all the packages that are installed. This behaviour is the source of the following dependency conflicts.\n",
      "django-googledrive-storage 1.6.0 requires google-auth<2,>=1.28.0, but you have google-auth 2.35.0 which is incompatible.\n",
      "\n",
      "[notice] A new release of pip is available: 23.1.2 -> 24.2\n",
      "[notice] To update, run: python.exe -m pip install --upgrade pip\n"
     ]
    }
   ],
   "source": [
    "!pip install -U -q google-generativeai"
   ]
  },
  {
   "cell_type": "code",
   "execution_count": 2,
   "metadata": {},
   "outputs": [
    {
     "name": "stderr",
     "output_type": "stream",
     "text": [
      "d:\\Wordspace\\Python\\paper_competition\\.e\\Lib\\site-packages\\tqdm\\auto.py:21: TqdmWarning: IProgress not found. Please update jupyter and ipywidgets. See https://ipywidgets.readthedocs.io/en/stable/user_install.html\n",
      "  from .autonotebook import tqdm as notebook_tqdm\n"
     ]
    }
   ],
   "source": [
    "import google.generativeai as genai\n",
    "import os\n",
    "import time"
   ]
  },
  {
   "cell_type": "code",
   "execution_count": 4,
   "metadata": {},
   "outputs": [],
   "source": [
    "folder_path = r'D:\\Wordspace\\Python\\paper_competition\\AI_Challenge\\media\\pack1-groupA'\n",
    "all_files = os.listdir(folder_path)\n",
    "all_files.sort(key=lambda x: int(x.split('-')[2]))\n"
   ]
  },
  {
   "cell_type": "code",
   "execution_count": 7,
   "metadata": {},
   "outputs": [],
   "source": [
    "with open(r\"D:\\Wordspace\\Python\\paper_competition\\key_gemini.txt\", \"r\") as f:\n",
    "    api = f.read()\n",
    "GOOGLE_API_KEY = api\n",
    "\n",
    "genai.configure(api_key=GOOGLE_API_KEY)\n",
    "model = genai.GenerativeModel('gemini-1.0-pro')"
   ]
  },
  {
   "cell_type": "code",
   "execution_count": 31,
   "metadata": {},
   "outputs": [
    {
     "name": "stdout",
     "output_type": "stream",
     "text": [
      "query-p1-1-qa.txt\n",
      "query-p1-10-kis.txt\n",
      "query-p1-11-kis.txt\n",
      "query-p1-12-kis.txt\n",
      "query-p1-13-kis.txt\n",
      "query-p1-14-kis.txt\n",
      "query-p1-15-kis.txt\n",
      "query-p1-16-kis.txt\n",
      "query-p1-17-kis.txt\n",
      "query-p1-18-kis.txt\n",
      "query-p1-19-kis.txt\n",
      "query-p1-2-qa.txt\n",
      "query-p1-20-kis.txt\n",
      "query-p1-21-kis.txt\n",
      "query-p1-22-kis.txt\n",
      "query-p1-23-kis.txt\n",
      "query-p1-24-qa.txt\n",
      "query-p1-25-qa.txt\n",
      "query-p1-3-qa.txt\n",
      "query-p1-4-kis.txt\n",
      "query-p1-5-kis.txt\n",
      "query-p1-6-kis.txt\n",
      "query-p1-7-kis.txt\n",
      "query-p1-8-kis.txt\n",
      "query-p1-9-kis.txt\n"
     ]
    }
   ],
   "source": [
    "def get_content(file_path):\n",
    "    with open(file_path, 'r', encoding='utf-8') as file:\n",
    "        content = file.read()\n",
    "        return content\n",
    "query = 'Tôi đang xây dựng một hệ thống search video bằng text, image, ocr, asr, caption, object, color, tag. Hãy phân loại các câu query là dạng câu query như thế nào?'\n",
    "summary = ''\n",
    "for file in all_files:\n",
    "    file_path = os.path.join(folder_path, file)\n",
    "    content = get_content(file_path)\n",
    "    print(file)\n",
    "    time.sleep(1)\n",
    "    response = model.generate_content(query + content)\n",
    "    summary += f\"Namefile: {file}\\nPhân loại: {response.text}\\nQuery: {content}\\n\\n\"\n",
    "\n"
   ]
  },
  {
   "cell_type": "code",
   "execution_count": 33,
   "metadata": {},
   "outputs": [],
   "source": [
    "with open('summary.txt', 'w') as file:\n",
    "    file.write(summary)"
   ]
  }
 ],
 "metadata": {
  "kernelspec": {
   "display_name": ".venv",
   "language": "python",
   "name": "python3"
  },
  "language_info": {
   "codemirror_mode": {
    "name": "ipython",
    "version": 3
   },
   "file_extension": ".py",
   "mimetype": "text/x-python",
   "name": "python",
   "nbconvert_exporter": "python",
   "pygments_lexer": "ipython3",
   "version": "3.11.4"
  }
 },
 "nbformat": 4,
 "nbformat_minor": 2
}
