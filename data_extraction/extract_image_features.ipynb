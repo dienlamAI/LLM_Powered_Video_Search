{
 "cells": [
  {
   "cell_type": "code",
   "execution_count": null,
   "metadata": {
    "_cell_guid": "b1076dfc-b9ad-4769-8c92-a6c4dae69d19",
    "_uuid": "8f2839f25d086af736a60e9eeb907d3b93b6e0e5",
    "execution": {
     "iopub.execute_input": "2024-10-13T13:55:11.146800Z",
     "iopub.status.busy": "2024-10-13T13:55:11.146195Z",
     "iopub.status.idle": "2024-10-13T13:55:24.592788Z",
     "shell.execute_reply": "2024-10-13T13:55:24.591853Z",
     "shell.execute_reply.started": "2024-10-13T13:55:11.146755Z"
    }
   },
   "outputs": [],
   "source": [
    "!pip install open_clip_torch"
   ]
  },
  {
   "cell_type": "code",
   "execution_count": null,
   "metadata": {
    "execution": {
     "iopub.execute_input": "2024-10-13T13:56:52.457848Z",
     "iopub.status.busy": "2024-10-13T13:56:52.457452Z",
     "iopub.status.idle": "2024-10-13T13:56:52.462446Z",
     "shell.execute_reply": "2024-10-13T13:56:52.461588Z",
     "shell.execute_reply.started": "2024-10-13T13:56:52.457808Z"
    }
   },
   "outputs": [],
   "source": [
    "import torch \n",
    "import os\n",
    "import open_clip\n",
    "\n",
    "device = \"cuda\" if torch.cuda.is_available() else \"cpu\"\n",
    "# open_clip.list_pretrained()\n",
    "name_model = 'ViT-SO400M-14-SigLIP-384'\n",
    "name_dataset = 'webli'"
   ]
  },
  {
   "cell_type": "code",
   "execution_count": null,
   "metadata": {
    "execution": {
     "iopub.execute_input": "2024-10-13T14:16:17.316442Z",
     "iopub.status.busy": "2024-10-13T14:16:17.316032Z",
     "iopub.status.idle": "2024-10-13T14:16:31.077460Z",
     "shell.execute_reply": "2024-10-13T14:16:31.076671Z",
     "shell.execute_reply.started": "2024-10-13T14:16:17.316396Z"
    }
   },
   "outputs": [],
   "source": [
    "model,_, preprocess = open_clip.create_model_and_transforms(name_model, device=device, pretrained=name_dataset)\n",
    "tokenizer = open_clip.get_tokenizer(name_model)"
   ]
  },
  {
   "cell_type": "code",
   "execution_count": null,
   "metadata": {
    "execution": {
     "iopub.execute_input": "2024-10-13T13:58:42.879619Z",
     "iopub.status.busy": "2024-10-13T13:58:42.878767Z",
     "iopub.status.idle": "2024-10-13T13:58:43.015575Z",
     "shell.execute_reply": "2024-10-13T13:58:43.014514Z",
     "shell.execute_reply.started": "2024-10-13T13:58:42.879574Z"
    }
   },
   "outputs": [],
   "source": [
    "from PIL import Image\n",
    "import numpy as np\n",
    "\n",
    "def get_image(image_path):\n",
    "\n",
    "    image = Image.open(image_path).convert(\"RGB\")\n",
    "\n",
    "    return image\n",
    "\n",
    "get_image(r'/kaggle/input/keyframes-v1-aic2024/Keyframes_L03/keyframes/L03_V002/015.jpg')"
   ]
  },
  {
   "cell_type": "code",
   "execution_count": null,
   "metadata": {
    "execution": {
     "iopub.execute_input": "2024-10-13T14:10:17.672300Z",
     "iopub.status.busy": "2024-10-13T14:10:17.671969Z",
     "iopub.status.idle": "2024-10-13T14:10:22.552156Z",
     "shell.execute_reply": "2024-10-13T14:10:22.550991Z",
     "shell.execute_reply.started": "2024-10-13T14:10:17.672267Z"
    }
   },
   "outputs": [],
   "source": [
    "def extract_image_features(image_path):\n",
    "    image = Image.open(image_path).convert(\"RGB\")\n",
    "    \n",
    "    image_input = preprocess(image).to(device).unsqueeze(0)\n",
    "    \n",
    "    with torch.no_grad():\n",
    "        image_features = model.encode_image(image_input)\n",
    "    \n",
    "    image_features /= image_features.norm(dim=-1, keepdim=True)\n",
    "    \n",
    "    return image_features.cpu().detach().numpy().squeeze().astype(np.float16)\n",
    "\n",
    "def save_video_features_to_npy(video_features, output_path):\n",
    "    np.save(output_path, np.array(video_features))"
   ]
  },
  {
   "cell_type": "code",
   "execution_count": null,
   "metadata": {
    "execution": {
     "iopub.execute_input": "2024-10-13T14:21:57.098004Z",
     "iopub.status.busy": "2024-10-13T14:21:57.097621Z",
     "iopub.status.idle": "2024-10-13T14:21:57.107318Z",
     "shell.execute_reply": "2024-10-13T14:21:57.106319Z",
     "shell.execute_reply.started": "2024-10-13T14:21:57.097966Z"
    }
   },
   "outputs": [],
   "source": [
    "def process_videos(root_dir, output_dir):\n",
    "    for keyframes_subdir in sorted(os.listdir(root_dir)):\n",
    "        keyframes_dir = os.path.join(root_dir, keyframes_subdir, \"keyframes\")\n",
    "        \n",
    "        if os.path.isdir(keyframes_dir): \n",
    "            for subdir in sorted(os.listdir(keyframes_dir)):\n",
    "                video_path = os.path.join(keyframes_dir, subdir)\n",
    "                \n",
    "                if os.path.isdir(video_path): \n",
    "                    video_features = []\n",
    "                    \n",
    "                    for keyframe in sorted(os.listdir(video_path)):\n",
    "                        keyframe_path = os.path.join(video_path, keyframe)\n",
    "\n",
    "                        if keyframe.endswith(\".jpg\"):\n",
    "                            features = extract_image_features(keyframe_path)\n",
    "                            video_features.append(features)\n",
    "                    \n",
    "                    if video_features:\n",
    "                        output_npy_path = os.path.join(output_dir, f\"{subdir}.npy\")\n",
    "                        os.makedirs(output_dir, exist_ok=True)\n",
    "                        \n",
    "                        save_video_features_to_npy(video_features, output_npy_path)\n",
    "                        print(f\"Đã lưu đặc trưng cho video {subdir} trong {keyframes_subdir} vào {output_npy_path}\")"
   ]
  },
  {
   "cell_type": "code",
   "execution_count": null,
   "metadata": {
    "execution": {
     "iopub.execute_input": "2024-10-13T14:24:37.772449Z",
     "iopub.status.busy": "2024-10-13T14:24:37.771724Z",
     "iopub.status.idle": "2024-10-13T14:24:37.776465Z",
     "shell.execute_reply": "2024-10-13T14:24:37.775447Z",
     "shell.execute_reply.started": "2024-10-13T14:24:37.772404Z"
    }
   },
   "outputs": [],
   "source": [
    "name_folder = 'SigLIP384'"
   ]
  },
  {
   "cell_type": "code",
   "execution_count": 2,
   "metadata": {
    "execution": {
     "iopub.execute_input": "2024-10-13T14:26:23.663356Z",
     "iopub.status.busy": "2024-10-13T14:26:23.662943Z"
    }
   },
   "outputs": [],
   "source": [
    "root_dir_b1 = '/kaggle/input/keyframes-v1-aic2024'\n",
    "output_dir_b1  = f'/kaggle/working/{name_folder}-features-32-b1/{name_folder}-features-32'\n",
    "\n",
    "process_videos(root_dir_b1, output_dir_b1)"
   ]
  }
 ],
 "metadata": {
  "kaggle": {
   "accelerator": "gpu",
   "dataSources": [
    {
     "datasetId": 5623515,
     "sourceId": 9289333,
     "sourceType": "datasetVersion"
    },
    {
     "datasetId": 5695186,
     "sourceId": 9386469,
     "sourceType": "datasetVersion"
    },
    {
     "datasetId": 5724393,
     "sourceId": 9424100,
     "sourceType": "datasetVersion"
    },
    {
     "datasetId": 5691527,
     "sourceId": 9430856,
     "sourceType": "datasetVersion"
    }
   ],
   "dockerImageVersionId": 30776,
   "isGpuEnabled": true,
   "isInternetEnabled": true,
   "language": "python",
   "sourceType": "notebook"
  },
  "kernelspec": {
   "display_name": "Python 3 (ipykernel)",
   "language": "python",
   "name": "python3"
  },
  "language_info": {
   "codemirror_mode": {
    "name": "ipython",
    "version": 3
   },
   "file_extension": ".py",
   "mimetype": "text/x-python",
   "name": "python",
   "nbconvert_exporter": "python",
   "pygments_lexer": "ipython3",
   "version": "3.9.13"
  }
 },
 "nbformat": 4,
 "nbformat_minor": 4
}
