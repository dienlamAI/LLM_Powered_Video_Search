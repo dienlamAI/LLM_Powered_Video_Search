{
 "cells": [
  {
   "cell_type": "code",
   "execution_count": null,
   "metadata": {
    "execution": {
     "iopub.execute_input": "2024-09-20T04:09:54.562195Z",
     "iopub.status.busy": "2024-09-20T04:09:54.561456Z",
     "iopub.status.idle": "2024-09-20T04:09:59.101139Z",
     "shell.execute_reply": "2024-09-20T04:09:59.099570Z",
     "shell.execute_reply.started": "2024-09-20T04:09:54.562116Z"
    },
    "trusted": true
   },
   "outputs": [],
   "source": [
    "import os\n",
    "import torch\n",
    "import glob\n",
    "import json\n",
    "from tqdm import tqdm\n",
    "import pandas as pd\n",
    "import math"
   ]
  },
  {
   "cell_type": "code",
   "execution_count": null,
   "metadata": {
    "execution": {
     "iopub.execute_input": "2024-09-20T04:09:59.104230Z",
     "iopub.status.busy": "2024-09-20T04:09:59.103497Z",
     "iopub.status.idle": "2024-09-20T04:09:59.399215Z",
     "shell.execute_reply": "2024-09-20T04:09:59.397551Z",
     "shell.execute_reply.started": "2024-09-20T04:09:59.104178Z"
    },
    "trusted": true
   },
   "outputs": [],
   "source": [
    "import cv2\n",
    "\n",
    "def get_video_fps(video_path):\n",
    "    video = cv2.VideoCapture(video_path)\n",
    "    if not video.isOpened():\n",
    "        print(\"Không thể mở file video.\")\n",
    "        return None\n",
    "    fps = video.get(cv2.CAP_PROP_FPS)\n",
    "    video.release()\n",
    "    return fps"
   ]
  },
  {
   "cell_type": "code",
   "execution_count": null,
   "metadata": {
    "execution": {
     "iopub.execute_input": "2024-09-20T04:25:00.517165Z",
     "iopub.status.busy": "2024-09-20T04:25:00.516531Z",
     "iopub.status.idle": "2024-09-20T04:25:00.525550Z",
     "shell.execute_reply": "2024-09-20T04:25:00.524264Z",
     "shell.execute_reply.started": "2024-09-20T04:25:00.517110Z"
    },
    "trusted": true
   },
   "outputs": [],
   "source": [
    "all_video_paths = dict()\n",
    "video_dir = \"/kaggle/working/asr\"\n",
    "for part in sorted(os.listdir(video_dir)):\n",
    "    data_path = part\n",
    "    all_video_paths[data_path] = dict()\n",
    "\n",
    "for data_part in sorted(all_video_paths.keys()):\n",
    "    data_part_path = f'{video_dir}/Videos_{data_part}_a/video'\n",
    "    video_paths = sorted(os.listdir(data_part_path))\n",
    "    video_ids = [video_path.replace('.mp4', '').split('_')[-1] for video_path in video_paths]\n",
    "    for video_id, video_path in zip(video_ids, video_paths):\n",
    "        video_path_full = f'{data_part_path}/{video_path}'\n",
    "        all_video_paths[data_part][video_id] = video_path_full"
   ]
  },
  {
   "cell_type": "code",
   "execution_count": null,
   "metadata": {
    "execution": {
     "iopub.execute_input": "2024-09-20T04:25:09.532519Z",
     "iopub.status.busy": "2024-09-20T04:25:09.531924Z",
     "iopub.status.idle": "2024-09-20T04:25:09.543512Z",
     "shell.execute_reply": "2024-09-20T04:25:09.541317Z",
     "shell.execute_reply.started": "2024-09-20T04:25:09.532467Z"
    },
    "trusted": true
   },
   "outputs": [],
   "source": [
    "all_video_paths.keys()"
   ]
  },
  {
   "cell_type": "code",
   "execution_count": null,
   "metadata": {
    "execution": {
     "iopub.execute_input": "2024-09-19T15:22:12.349652Z",
     "iopub.status.busy": "2024-09-19T15:22:12.348519Z",
     "iopub.status.idle": "2024-09-19T15:22:40.515236Z",
     "shell.execute_reply": "2024-09-19T15:22:40.514017Z",
     "shell.execute_reply.started": "2024-09-19T15:22:12.349596Z"
    },
    "trusted": true
   },
   "outputs": [],
   "source": [
    "keyframes_dir = '/kaggle/input/keyframes-v2-aic2024'\n",
    "all_keyframe_paths = dict()\n",
    "for part in sorted(os.listdir(keyframes_dir)):\n",
    "    data_part = part.split('_')[-1]\n",
    "    all_keyframe_paths[data_part] =  dict()\n",
    "    data_part_path = f'{keyframes_dir}/Keyframes_{data_part}/keyframes'\n",
    "    frame_dirs = sorted(os.listdir(data_part_path))\n",
    "    frame_ids = [frame_dir.split('_')[-1] for frame_dir in frame_dirs]\n",
    "    for frame_id, frame_dir in zip(frame_ids, frame_dirs):\n",
    "        keyframe_paths = sorted(glob.glob(f'{data_part_path}/{frame_dir}/*.jpg'))\n",
    "        all_keyframe_paths[data_part][frame_id] =  keyframe_paths"
   ]
  },
  {
   "cell_type": "code",
   "execution_count": null,
   "metadata": {
    "execution": {
     "iopub.execute_input": "2024-09-19T15:42:51.727208Z",
     "iopub.status.busy": "2024-09-19T15:42:51.726729Z",
     "iopub.status.idle": "2024-09-19T15:43:18.884421Z",
     "shell.execute_reply": "2024-09-19T15:43:18.883352Z",
     "shell.execute_reply.started": "2024-09-19T15:42:51.727164Z"
    },
    "trusted": true
   },
   "outputs": [],
   "source": [
    "i = 0\n",
    "map_ = dict()\n",
    "context_all = []\n",
    "for key in tqdm(all_video_paths.keys()):\n",
    "    video_paths_dict = all_video_paths[key]\n",
    "    video_ids = sorted(video_paths_dict.keys())\n",
    "    \n",
    "    \n",
    "    for video_id in video_ids:\n",
    "        video_dir = f'/kaggle/input/video-v2-aic2024/Videos_{key}_a/video/{key}_{video_id}.mp4'\n",
    "        audio_detect_dir = f'/kaggle/input/aic24-asr-v1/audio_extracted/{key}/{video_id}.json'\n",
    "        audio_recog_dir = f'/kaggle/input/aic24-asr-v1/audio_recognized/{key}/{video_id}.json'\n",
    "        fps = get_video_fps(video_dir)\n",
    "        map_keyframe_dir = f'/kaggle/input/map-keyframes-v2/map-keyframes/{key}_{video_id}.csv'\n",
    "        with open(audio_detect_dir) as f:\n",
    "            frames = json.load(f)\n",
    "            \n",
    "        with open(audio_recog_dir) as c:\n",
    "            contexts = json.load(c)\n",
    "            \n",
    "        csvFile = pd.read_csv(map_keyframe_dir)\n",
    "        for frame, context in zip(frames, contexts):\n",
    "            range_frame = [math.floor(x)*fps for x in frame]\n",
    "            frame_idx = [x for x in csvFile['frame_idx'] if x >= range_frame[0] and x <= range_frame[1]]\n",
    "            frame_paths = []\n",
    "            j=-1\n",
    "            for num in csvFile['n'][csvFile['frame_idx'].isin(frame_idx)]:\n",
    "                j+=1\n",
    "                frame_path = f'/Keyframes/Keyframes_{key}/keyframes/{key}_{video_id}/{num:03d}.jpg'\n",
    "                map_[str(i)] = {\n",
    "                    'image_path': frame_path,\n",
    "                    'frame_idx': frame_idx[j]\n",
    "                }\n",
    "                context_all.append(context)\n",
    "                i+=1"
   ]
  },
  {
   "cell_type": "code",
   "execution_count": null,
   "metadata": {
    "execution": {
     "iopub.execute_input": "2024-09-19T15:43:18.887136Z",
     "iopub.status.busy": "2024-09-19T15:43:18.886665Z",
     "iopub.status.idle": "2024-09-19T15:43:18.894070Z",
     "shell.execute_reply": "2024-09-19T15:43:18.892935Z",
     "shell.execute_reply.started": "2024-09-19T15:43:18.887082Z"
    },
    "trusted": true
   },
   "outputs": [],
   "source": [
    "for i, (key, value) in enumerate(map_.items()):\n",
    "    if i < 10:\n",
    "        print(f\"{key}: {value}\")\n",
    "    else:\n",
    "        break"
   ]
  },
  {
   "cell_type": "code",
   "execution_count": null,
   "metadata": {
    "execution": {
     "iopub.execute_input": "2024-09-19T15:43:18.895865Z",
     "iopub.status.busy": "2024-09-19T15:43:18.895510Z",
     "iopub.status.idle": "2024-09-19T15:43:18.906236Z",
     "shell.execute_reply": "2024-09-19T15:43:18.905136Z",
     "shell.execute_reply.started": "2024-09-19T15:43:18.895827Z"
    },
    "trusted": true
   },
   "outputs": [],
   "source": [
    "len(map_)"
   ]
  },
  {
   "cell_type": "code",
   "execution_count": null,
   "metadata": {
    "execution": {
     "iopub.execute_input": "2024-09-19T15:43:18.908522Z",
     "iopub.status.busy": "2024-09-19T15:43:18.908143Z",
     "iopub.status.idle": "2024-09-19T15:43:18.916484Z",
     "shell.execute_reply": "2024-09-19T15:43:18.915429Z",
     "shell.execute_reply.started": "2024-09-19T15:43:18.908485Z"
    },
    "trusted": true
   },
   "outputs": [],
   "source": [
    "len(context_all)"
   ]
  },
  {
   "cell_type": "code",
   "execution_count": null,
   "metadata": {
    "execution": {
     "iopub.execute_input": "2024-09-19T15:43:27.388385Z",
     "iopub.status.busy": "2024-09-19T15:43:27.387197Z",
     "iopub.status.idle": "2024-09-19T15:43:27.891208Z",
     "shell.execute_reply": "2024-09-19T15:43:27.890123Z",
     "shell.execute_reply.started": "2024-09-19T15:43:27.388319Z"
    },
    "trusted": true
   },
   "outputs": [],
   "source": [
    "# Tạo file JSON và ghi dữ liệu vào đó\n",
    "with open('map-asr-v2.json', 'w') as json_file:\n",
    "    json.dump(map_, json_file, indent=4)\n",
    "\n",
    "print(\"Created\")"
   ]
  },
  {
   "cell_type": "code",
   "execution_count": null,
   "metadata": {
    "execution": {
     "iopub.execute_input": "2024-09-04T17:05:01.538060Z",
     "iopub.status.busy": "2024-09-04T17:05:01.537104Z",
     "iopub.status.idle": "2024-09-04T17:05:01.544022Z",
     "shell.execute_reply": "2024-09-04T17:05:01.543015Z",
     "shell.execute_reply.started": "2024-09-04T17:05:01.538014Z"
    },
    "trusted": true
   },
   "outputs": [],
   "source": [
    "map_['1']"
   ]
  },
  {
   "cell_type": "markdown",
   "metadata": {},
   "source": [
    "# connect asr"
   ]
  },
  {
   "cell_type": "code",
   "execution_count": null,
   "metadata": {
    "execution": {
     "iopub.execute_input": "2024-09-20T04:05:10.428008Z",
     "iopub.status.busy": "2024-09-20T04:05:10.427419Z",
     "iopub.status.idle": "2024-09-20T04:05:11.645856Z",
     "shell.execute_reply": "2024-09-20T04:05:11.643234Z",
     "shell.execute_reply.started": "2024-09-20T04:05:10.427951Z"
    },
    "trusted": true
   },
   "outputs": [],
   "source": [
    "!mkdir asr"
   ]
  },
  {
   "cell_type": "code",
   "execution_count": null,
   "metadata": {
    "execution": {
     "iopub.execute_input": "2024-09-20T04:07:18.018686Z",
     "iopub.status.busy": "2024-09-20T04:07:18.017387Z",
     "iopub.status.idle": "2024-09-20T04:07:20.950465Z",
     "shell.execute_reply": "2024-09-20T04:07:20.948503Z",
     "shell.execute_reply.started": "2024-09-20T04:07:18.018625Z"
    },
    "trusted": true
   },
   "outputs": [],
   "source": [
    "!cp -r /kaggle/input/aic24-asr-v1/audio_recognized/* /kaggle/working/asr"
   ]
  },
  {
   "cell_type": "markdown",
   "metadata": {},
   "source": [
    "# Connect map asr"
   ]
  },
  {
   "cell_type": "code",
   "execution_count": null,
   "metadata": {
    "execution": {
     "iopub.execute_input": "2024-09-20T03:39:20.057635Z",
     "iopub.status.busy": "2024-09-20T03:39:20.057150Z",
     "iopub.status.idle": "2024-09-20T03:39:20.064574Z",
     "shell.execute_reply": "2024-09-20T03:39:20.063083Z",
     "shell.execute_reply.started": "2024-09-20T03:39:20.057592Z"
    },
    "trusted": true
   },
   "outputs": [],
   "source": [
    "import json"
   ]
  },
  {
   "cell_type": "code",
   "execution_count": null,
   "metadata": {
    "execution": {
     "iopub.execute_input": "2024-09-20T03:39:20.799436Z",
     "iopub.status.busy": "2024-09-20T03:39:20.798900Z",
     "iopub.status.idle": "2024-09-20T03:39:21.436473Z",
     "shell.execute_reply": "2024-09-20T03:39:21.434870Z",
     "shell.execute_reply.started": "2024-09-20T03:39:20.799391Z"
    },
    "trusted": true
   },
   "outputs": [],
   "source": [
    "with open('/kaggle/input/map-asr/map-asr.json', 'r') as f1, open('/kaggle/input/map-asr/map-asr-v2.json', 'r') as f2:\n",
    "    data1 = json.load(f1)\n",
    "    data2 = json.load(f2)"
   ]
  },
  {
   "cell_type": "code",
   "execution_count": null,
   "metadata": {
    "execution": {
     "iopub.execute_input": "2024-09-20T03:41:48.523172Z",
     "iopub.status.busy": "2024-09-20T03:41:48.522558Z",
     "iopub.status.idle": "2024-09-20T03:41:48.651038Z",
     "shell.execute_reply": "2024-09-20T03:41:48.649688Z",
     "shell.execute_reply.started": "2024-09-20T03:41:48.523120Z"
    },
    "trusted": true
   },
   "outputs": [],
   "source": [
    "# Tạo dict mới để chứa kết quả\n",
    "merged_data = {}\n",
    "\n",
    "# Sao chép nội dung từ data1 vào merged_data\n",
    "for key, value in data1.items():\n",
    "    merged_data[key] = value\n",
    "\n",
    "# Tính toán số thứ tự bắt đầu cho file thứ hai\n",
    "next_index = len(merged_data)\n",
    "\n",
    "# Nối nội dung của data2 vào merged_data\n",
    "for key, value in data2.items():\n",
    "    merged_data[str(next_index)] = value\n",
    "    next_index += 1\n"
   ]
  },
  {
   "cell_type": "code",
   "execution_count": null,
   "metadata": {
    "execution": {
     "iopub.execute_input": "2024-09-20T03:42:10.143281Z",
     "iopub.status.busy": "2024-09-20T03:42:10.141990Z",
     "iopub.status.idle": "2024-09-20T03:42:10.152840Z",
     "shell.execute_reply": "2024-09-20T03:42:10.151021Z",
     "shell.execute_reply.started": "2024-09-20T03:42:10.143212Z"
    },
    "trusted": true
   },
   "outputs": [],
   "source": [
    "len(data1), len(data2)"
   ]
  },
  {
   "cell_type": "code",
   "execution_count": null,
   "metadata": {
    "execution": {
     "iopub.execute_input": "2024-09-20T03:42:01.936835Z",
     "iopub.status.busy": "2024-09-20T03:42:01.936206Z",
     "iopub.status.idle": "2024-09-20T03:42:01.945369Z",
     "shell.execute_reply": "2024-09-20T03:42:01.943934Z",
     "shell.execute_reply.started": "2024-09-20T03:42:01.936763Z"
    },
    "trusted": true
   },
   "outputs": [],
   "source": [
    "len(merged_data)"
   ]
  },
  {
   "cell_type": "code",
   "execution_count": null,
   "metadata": {
    "execution": {
     "iopub.execute_input": "2024-09-20T03:42:37.550692Z",
     "iopub.status.busy": "2024-09-20T03:42:37.550216Z",
     "iopub.status.idle": "2024-09-20T03:42:39.356794Z",
     "shell.execute_reply": "2024-09-20T03:42:39.355163Z",
     "shell.execute_reply.started": "2024-09-20T03:42:37.550646Z"
    },
    "trusted": true
   },
   "outputs": [],
   "source": [
    "# Lưu kết quả vào file mới\n",
    "with open('map_asr.json', 'w') as f_merged:\n",
    "    json.dump(merged_data, f_merged, indent=4)"
   ]
  },
  {
   "cell_type": "markdown",
   "metadata": {},
   "source": [
    "# tfidf embed"
   ]
  },
  {
   "cell_type": "code",
   "execution_count": null,
   "metadata": {
    "execution": {
     "iopub.execute_input": "2024-09-20T04:29:56.354376Z",
     "iopub.status.busy": "2024-09-20T04:29:56.353886Z",
     "iopub.status.idle": "2024-09-20T04:29:56.362882Z",
     "shell.execute_reply": "2024-09-20T04:29:56.361222Z",
     "shell.execute_reply.started": "2024-09-20T04:29:56.354334Z"
    },
    "trusted": true
   },
   "outputs": [],
   "source": [
    "import os\n",
    "import sys\n",
    "import glob\n",
    "import scipy\n",
    "import pickle\n",
    "import numpy as np\n",
    "import json\n",
    "import re\n",
    "from sklearn.feature_extraction.text import TfidfVectorizer\n",
    "from scipy.sparse import save_npz, load_npz\n",
    "from scipy import sparse as sp"
   ]
  },
  {
   "cell_type": "code",
   "execution_count": null,
   "metadata": {
    "execution": {
     "iopub.execute_input": "2024-09-20T04:41:30.475406Z",
     "iopub.status.busy": "2024-09-20T04:41:30.473963Z",
     "iopub.status.idle": "2024-09-20T04:41:30.483025Z",
     "shell.execute_reply": "2024-09-20T04:41:30.481367Z",
     "shell.execute_reply.started": "2024-09-20T04:41:30.475336Z"
    },
    "trusted": true
   },
   "outputs": [],
   "source": [
    "def preprocess_text(text:str):\n",
    "#     text = text.lower()\n",
    "    # keep letter and number remove all remain\n",
    "    reg_pattern = '[^a-z0-9A-Z_ÀÁÂÃÈÉÊÌÍÒÓÔÕÙÚĂĐĨŨƠàáâãèéêìíòóôõùúăđĩũơƯĂẠẢẤẦẨẪẬẮẰẲẴẶẸẺẼỀỀỂưăạảấầẩẫậắằẳẵặẹẻẽềềểỄỆỈỊỌỎỐỒỔỖỘỚỜỞỠỢỤỦỨỪễếệỉịọỏốồổỗộớờởỡợụủứừỬỮỰỲỴÝỶỸửữựỳỵỷỹ\\s]'\n",
    "    output = re.sub(reg_pattern, '', text)\n",
    "#     output = text\n",
    "    output = output.strip()\n",
    "    return text"
   ]
  },
  {
   "cell_type": "code",
   "execution_count": null,
   "metadata": {
    "execution": {
     "iopub.execute_input": "2024-09-20T04:41:56.033553Z",
     "iopub.status.busy": "2024-09-20T04:41:56.033014Z",
     "iopub.status.idle": "2024-09-20T04:41:56.062223Z",
     "shell.execute_reply": "2024-09-20T04:41:56.060380Z",
     "shell.execute_reply.started": "2024-09-20T04:41:56.033504Z"
    },
    "trusted": true
   },
   "outputs": [],
   "source": [
    "def load_context(clean_data_paths, input_datatype = 'txt'):\n",
    "    context = []\n",
    "    if input_datatype == 'txt':\n",
    "        data_paths = []\n",
    "        cxx_data_paths = glob.glob(clean_data_paths)\n",
    "        cxx_data_paths.sort()\n",
    "        for cxx_data_path in cxx_data_paths:\n",
    "            data_path = glob.glob(cxx_data_path + '/*.txt')\n",
    "            data_path.sort(reverse=False, key=lambda s:int(s[-7:-4]))\n",
    "            data_paths += data_path\n",
    "        for path in data_paths:\n",
    "            with open(path, 'r', encoding='utf-8') as f:\n",
    "                data = f.readlines()\n",
    "                data = [item.strip() for item in data]\n",
    "                context += data\n",
    "    elif input_datatype == 'json':\n",
    "        context_paths = glob.glob(clean_data_paths)\n",
    "        context_paths.sort()\n",
    "        for cxx_context_path in context_paths:\n",
    "            paths = glob.glob(cxx_context_path + '/*.json')\n",
    "            paths.sort(reverse=False, key=lambda x: int(x[-8:-5]))\n",
    "            for path in paths:\n",
    "                with open(path) as f:\n",
    "                    context += [''.join(line) for line in json.load(f)]\n",
    "    else:\n",
    "        print(f'not support reading the {input_datatype}')\n",
    "        sys.exit()\n",
    "    return context\n",
    "\n",
    "def TfIdfTransform(data_path, save_tfids_object_path,  update=False , all_datatype=None): \n",
    "    tfidf_transform = {}\n",
    "    context_matrix = {}\n",
    "    ngram_range = (1, 1)\n",
    "    for datatype in all_datatype:\n",
    "        print(f'processing {datatype}')\n",
    "        data_type_path = os.path.join(PROJECT_ROOT, data_path[datatype])\n",
    "        print(f'load {datatype} context data from {data_type_path}')\n",
    "        context = load_context(data_type_path)\n",
    "        if update:\n",
    "            print(f'load {datatype} tfidf object and matrix')\n",
    "            tfidf_transform_path = os.path.join(PROJECT_ROOT, save_tfids_object_path, f'tfidf_transform_{datatype}.pkl')\n",
    "            context_matrix_path = os.path.join(PROJECT_ROOT, save_tfids_object_path, f'sparse_context_matrix_{datatype}.npz')\n",
    "\n",
    "            with open(tfidf_transform_path, 'rb') as f:\n",
    "                old_tfidf_transformer = pickle.load(f)\n",
    "            old_tfidf_matrix = load_npz(context_matrix_path)\n",
    "\n",
    "            print(f'update {datatype} tfidf object and matrix')\n",
    "            new_tfidf_matrix = old_tfidf_transformer.transform(context)\n",
    "            context_matrix[datatype] = scipy.sparse.vstack([old_tfidf_matrix, new_tfidf_matrix])\n",
    "\n",
    "        else:\n",
    "            print(f'create {datatype} tfidf object and matrix')\n",
    "            tfidf_transform[datatype] = TfidfVectorizer(input = 'content', ngram_range = ngram_range, token_pattern=r\"(?u)\\b[\\w\\d]+\\b\")\n",
    "            context_matrix[datatype] = tfidf_transform[datatype].fit_transform(context)\n",
    "\n",
    "        tfidf_transform_path = os.path.join(PROJECT_ROOT, save_tfids_object_path, f'tfidf_transform_{datatype}_test.pkl')\n",
    "        context_matrix_path = os.path.join(PROJECT_ROOT, save_tfids_object_path, f'sparse_context_matrix_{datatype}_test.npz')\n",
    "\n",
    "        os.makedirs(os.path.dirname(tfidf_transform_path), exist_ok=True)\n",
    "        os.makedirs(os.path.dirname(context_matrix_path), exist_ok=True)\n",
    "        print(f'save tfidf object to : {tfidf_transform_path}')\n",
    "        with open(tfidf_transform_path, 'wb') as f:\n",
    "            pickle.dump(tfidf_transform[datatype], f)\n",
    "\n",
    "        save_npz(context_matrix_path, context_matrix[datatype])\n"
   ]
  },
  {
   "cell_type": "code",
   "execution_count": null,
   "metadata": {
    "execution": {
     "iopub.execute_input": "2024-09-20T04:42:29.698175Z",
     "iopub.status.busy": "2024-09-20T04:42:29.697590Z",
     "iopub.status.idle": "2024-09-20T04:42:29.712953Z",
     "shell.execute_reply": "2024-09-20T04:42:29.711039Z",
     "shell.execute_reply.started": "2024-09-20T04:42:29.698122Z"
    },
    "trusted": true
   },
   "outputs": [],
   "source": [
    "def load_context(clean_data_paths, input_datatype):\n",
    "    context = []\n",
    "    if input_datatype == 'txt':\n",
    "        data_paths = []\n",
    "        cxx_data_paths = glob.glob(clean_data_paths)\n",
    "        cxx_data_paths.sort()\n",
    "        for cxx_data_path in cxx_data_paths:\n",
    "            data_path = glob.glob(cxx_data_path + '/*.txt')\n",
    "            data_path.sort(reverse=False, key=lambda s:int(s[-7:-4]))\n",
    "            data_paths += data_path\n",
    "        for path in data_paths:\n",
    "            with open(path, 'r', encoding='utf-8') as f:\n",
    "                data = f.readlines()\n",
    "                data = [item.strip() for item in data]\n",
    "                context += data\n",
    "    elif input_datatype == 'json':\n",
    "        context_paths = glob.glob(clean_data_paths)\n",
    "        context_paths.sort()\n",
    "        for cxx_context_path in context_paths:\n",
    "            paths = glob.glob(cxx_context_path + '/*.json')\n",
    "            paths.sort(reverse=False, key=lambda x: int(x[-8:-5]))\n",
    "            for path in paths:\n",
    "                with open(path) as f:\n",
    "                    context += [preprocess_text(''.join(line)) for line in json.load(f)]\n",
    "    else:\n",
    "        print(f'not support reading the {input_datatype}')\n",
    "        sys.exit()\n",
    "    return context"
   ]
  },
  {
   "cell_type": "code",
   "execution_count": null,
   "metadata": {
    "execution": {
     "iopub.execute_input": "2024-09-20T04:42:29.917023Z",
     "iopub.status.busy": "2024-09-20T04:42:29.915892Z",
     "iopub.status.idle": "2024-09-20T04:42:29.924611Z",
     "shell.execute_reply": "2024-09-20T04:42:29.922696Z",
     "shell.execute_reply.started": "2024-09-20T04:42:29.916959Z"
    },
    "trusted": true
   },
   "outputs": [],
   "source": [
    "clean_data_path = {\n",
    "                'asr':'/kaggle/working/asr/*',\n",
    "            } \n",
    "save_tfids_object_path = '/kaggle/working/'\n",
    "update = False\n",
    "context_data = None\n",
    "ngram_range = (1, 1)\n",
    "input_datatype = 'json'"
   ]
  },
  {
   "cell_type": "code",
   "execution_count": null,
   "metadata": {
    "execution": {
     "iopub.execute_input": "2024-09-20T04:42:41.701950Z",
     "iopub.status.busy": "2024-09-20T04:42:41.701434Z",
     "iopub.status.idle": "2024-09-20T04:42:43.178092Z",
     "shell.execute_reply": "2024-09-20T04:42:43.176358Z",
     "shell.execute_reply.started": "2024-09-20T04:42:41.701905Z"
    },
    "trusted": true
   },
   "outputs": [],
   "source": [
    "clean_data_paths = clean_data_path['asr']\n",
    "context = load_context(clean_data_paths, input_datatype)"
   ]
  },
  {
   "cell_type": "code",
   "execution_count": null,
   "metadata": {
    "execution": {
     "iopub.execute_input": "2024-09-20T04:42:48.563270Z",
     "iopub.status.busy": "2024-09-20T04:42:48.562659Z",
     "iopub.status.idle": "2024-09-20T04:42:53.235691Z",
     "shell.execute_reply": "2024-09-20T04:42:53.233860Z",
     "shell.execute_reply.started": "2024-09-20T04:42:48.563210Z"
    },
    "trusted": true
   },
   "outputs": [],
   "source": [
    "s = context #[1000000:-500000]\n",
    "\n",
    "tf = TfidfVectorizer(input = 'content', ngram_range = ngram_range, token_pattern=r\"(?u)\\b[\\w\\d]+\\b\")\n",
    "cm = tf.fit_transform(s).tocsr()\n",
    "# cm.shape"
   ]
  },
  {
   "cell_type": "code",
   "execution_count": null,
   "metadata": {
    "execution": {
     "iopub.execute_input": "2024-09-20T04:42:56.001577Z",
     "iopub.status.busy": "2024-09-20T04:42:56.001015Z",
     "iopub.status.idle": "2024-09-20T04:42:56.030322Z",
     "shell.execute_reply": "2024-09-20T04:42:56.028866Z",
     "shell.execute_reply.started": "2024-09-20T04:42:56.001526Z"
    },
    "trusted": true
   },
   "outputs": [],
   "source": [
    "len(tf.get_feature_names_out()),len(np.unique(tf.get_feature_names_out()))"
   ]
  },
  {
   "cell_type": "code",
   "execution_count": null,
   "metadata": {
    "execution": {
     "iopub.execute_input": "2024-09-20T04:43:23.034373Z",
     "iopub.status.busy": "2024-09-20T04:43:23.033890Z",
     "iopub.status.idle": "2024-09-20T04:43:25.368453Z",
     "shell.execute_reply": "2024-09-20T04:43:25.366951Z",
     "shell.execute_reply.started": "2024-09-20T04:43:23.034329Z"
    },
    "trusted": true
   },
   "outputs": [],
   "source": [
    "with open(os.path.join(save_tfids_object_path, f'tfidf_transform_asr.pkl'), 'wb') as f:\n",
    "    pickle.dump(tf, f)\n",
    "scipy.sparse.save_npz(os.path.join(save_tfids_object_path, f'sparse_context_matrix_asr.npz'), cm)"
   ]
  },
  {
   "cell_type": "code",
   "execution_count": null,
   "metadata": {},
   "outputs": [],
   "source": []
  }
 ],
 "metadata": {
  "kaggle": {
   "accelerator": "none",
   "dataSources": [
    {
     "datasetId": 5640175,
     "isSourceIdPinned": true,
     "sourceId": 9312812,
     "sourceType": "datasetVersion"
    },
    {
     "datasetId": 5724393,
     "sourceId": 9424100,
     "sourceType": "datasetVersion"
    },
    {
     "datasetId": 5724517,
     "sourceId": 9424268,
     "sourceType": "datasetVersion"
    },
    {
     "datasetId": 5733669,
     "sourceId": 9436317,
     "sourceType": "datasetVersion"
    },
    {
     "datasetId": 5641269,
     "sourceId": 9439304,
     "sourceType": "datasetVersion"
    },
    {
     "datasetId": 5735871,
     "sourceId": 9439321,
     "sourceType": "datasetVersion"
    }
   ],
   "dockerImageVersionId": 30761,
   "isGpuEnabled": false,
   "isInternetEnabled": true,
   "language": "python",
   "sourceType": "notebook"
  },
  "kernelspec": {
   "display_name": "Python 3",
   "language": "python",
   "name": "python3"
  },
  "language_info": {
   "codemirror_mode": {
    "name": "ipython",
    "version": 3
   },
   "file_extension": ".py",
   "mimetype": "text/x-python",
   "name": "python",
   "nbconvert_exporter": "python",
   "pygments_lexer": "ipython3",
   "version": "3.10.14"
  }
 },
 "nbformat": 4,
 "nbformat_minor": 4
}
