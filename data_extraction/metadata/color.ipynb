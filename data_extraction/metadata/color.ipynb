{
 "cells": [
  {
   "cell_type": "code",
   "execution_count": null,
   "id": "f10698f0",
   "metadata": {
    "_cell_guid": "b1076dfc-b9ad-4769-8c92-a6c4dae69d19",
    "_uuid": "8f2839f25d086af736a60e9eeb907d3b93b6e0e5",
    "execution": {
     "iopub.execute_input": "2024-09-13T18:04:11.014519Z",
     "iopub.status.busy": "2024-09-13T18:04:11.013543Z",
     "iopub.status.idle": "2024-09-13T18:04:12.644199Z",
     "shell.execute_reply": "2024-09-13T18:04:12.643337Z"
    },
    "papermill": {
     "duration": 1.640954,
     "end_time": "2024-09-13T18:04:12.646765",
     "exception": false,
     "start_time": "2024-09-13T18:04:11.005811",
     "status": "completed"
    },
    "tags": []
   },
   "outputs": [],
   "source": [
    "import os\n",
    "import cv2\n",
    "import json\n",
    "import glob\n",
    "import threading\n",
    "import warnings\n",
    "import numpy as np\n",
    "from tqdm import tqdm\n",
    "from collections import Counter\n",
    "import matplotlib.pyplot as plt\n",
    "from sklearn.cluster import KMeans\n",
    "from skimage.color import rgb2lab, deltaE_cie76\n",
    "from sklearn.exceptions import ConvergenceWarning"
   ]
  },
  {
   "cell_type": "code",
   "execution_count": null,
   "id": "95e6e5f1",
   "metadata": {
    "execution": {
     "iopub.execute_input": "2024-09-13T18:04:12.659213Z",
     "iopub.status.busy": "2024-09-13T18:04:12.658799Z",
     "iopub.status.idle": "2024-09-13T18:04:20.928004Z",
     "shell.execute_reply": "2024-09-13T18:04:20.927144Z"
    },
    "papermill": {
     "duration": 8.27773,
     "end_time": "2024-09-13T18:04:20.930363",
     "exception": false,
     "start_time": "2024-09-13T18:04:12.652633",
     "status": "completed"
    },
    "tags": []
   },
   "outputs": [],
   "source": [
    "keyframes_dir = '/kaggle/input/keyframes-extra-aic2024-v1'\n",
    "all_keyframe_paths = dict()\n",
    "for part in sorted(os.listdir(keyframes_dir)):\n",
    "    data_part = part #.split('_')[-1] # L01, L02 for ex\n",
    "    print(data_part)\n",
    "    all_keyframe_paths[data_part] =  dict()\n",
    "\n",
    "for data_part in sorted(all_keyframe_paths.keys()):\n",
    "    data_part_path = f'{keyframes_dir}/{data_part}/keyframes'\n",
    "    video_dirs = sorted(os.listdir(data_part_path))\n",
    "    video_ids = [video_dir.split('_')[-1] for video_dir in video_dirs]\n",
    "    for video_id, video_dir in zip(video_ids, video_dirs):\n",
    "        keyframe_paths = sorted(glob.glob(f'{data_part_path}/{video_dir}/*.jpg'))\n",
    "        all_keyframe_paths[data_part][video_id] = keyframe_paths"
   ]
  },
  {
   "cell_type": "code",
   "execution_count": null,
   "id": "b7067d8a",
   "metadata": {
    "execution": {
     "iopub.execute_input": "2024-09-13T18:04:20.942456Z",
     "iopub.status.busy": "2024-09-13T18:04:20.942155Z",
     "iopub.status.idle": "2024-09-13T18:04:20.948984Z",
     "shell.execute_reply": "2024-09-13T18:04:20.948108Z"
    },
    "papermill": {
     "duration": 0.015224,
     "end_time": "2024-09-13T18:04:20.951044",
     "exception": false,
     "start_time": "2024-09-13T18:04:20.935820",
     "status": "completed"
    },
    "tags": []
   },
   "outputs": [],
   "source": [
    "all_keyframe_paths['Keyframes_L01'].keys()"
   ]
  },
  {
   "cell_type": "code",
   "execution_count": null,
   "id": "0af71821",
   "metadata": {
    "execution": {
     "iopub.execute_input": "2024-09-13T18:04:20.963162Z",
     "iopub.status.busy": "2024-09-13T18:04:20.962848Z",
     "iopub.status.idle": "2024-09-13T18:04:21.296375Z",
     "shell.execute_reply": "2024-09-13T18:04:21.295487Z"
    },
    "papermill": {
     "duration": 0.342931,
     "end_time": "2024-09-13T18:04:21.299152",
     "exception": false,
     "start_time": "2024-09-13T18:04:20.956221",
     "status": "completed"
    },
    "tags": []
   },
   "outputs": [],
   "source": [
    "color_pallette ={\n",
    "    'black' :  [0, 0, 0],\n",
    "    'blue'  :  [0, 0, 255],\n",
    "    'brown' :  [150, 75, 0],\n",
    "    'green' :  [0, 128, 0],\n",
    "    'grey'  :  [128, 128, 128],\n",
    "    'orange':  [255, 165, 0],\n",
    "    'pink'  :  [255, 192, 203],\n",
    "    'purple':  [128, 0, 128],\n",
    "    'red'   :  [255, 0, 0],\n",
    "    'white' :  [255, 255, 255],\n",
    "    'yellow':  [255, 255, 0]\n",
    "}\n",
    "\n",
    "n_colors = len(color_pallette)\n",
    "\n",
    "print(\"Custom Pallete\")\n",
    "plt.figure(0)\n",
    "for i, (_, value)  in enumerate(color_pallette.items()):\n",
    "    patch = np.ones((20, 20, 3), dtype=np.uint8)\n",
    "    patch[:, :, :] = value\n",
    "    plt.subplot(1, n_colors, i+1)\n",
    "    plt.axis('off')\n",
    "    plt.imshow(patch)\n",
    "plt.show()     "
   ]
  },
  {
   "cell_type": "code",
   "execution_count": null,
   "id": "bbb8594f",
   "metadata": {
    "execution": {
     "iopub.execute_input": "2024-09-13T18:04:21.312850Z",
     "iopub.status.busy": "2024-09-13T18:04:21.312455Z",
     "iopub.status.idle": "2024-09-13T18:04:21.327620Z",
     "shell.execute_reply": "2024-09-13T18:04:21.326683Z"
    },
    "papermill": {
     "duration": 0.024437,
     "end_time": "2024-09-13T18:04:21.329707",
     "exception": false,
     "start_time": "2024-09-13T18:04:21.305270",
     "status": "completed"
    },
    "tags": []
   },
   "outputs": [],
   "source": [
    "class VisualEncoding:\n",
    "    def __init__(self,\n",
    "                classes = ('person', 'bicycle', 'car', 'motorcycle', 'airplane', 'bus', 'train',\n",
    "                           'truck', 'boat', 'traffic light', 'fire hydrant', 'stop sign',\n",
    "                           'parking meter', 'bench', 'bird', 'cat', 'dog', 'horse', 'sheep',\n",
    "                           'cow', 'elephant', 'bear', 'zebra', 'giraffe', 'backpack', 'umbrella',\n",
    "                           'handbag', 'tie', 'suitcase', 'frisbee', 'skis', 'snowboard',\n",
    "                           'sports ball', 'kite', 'baseball bat', 'baseball glove', 'skateboard',\n",
    "                           'surfboard', 'tennis racket', 'bottle', 'wine glass', 'cup', 'fork',\n",
    "                           'knife', 'spoon', 'bowl', 'banana', 'apple', 'sandwich', 'orange',\n",
    "                           'broccoli', 'carrot', 'hot dog', 'pizza', 'donut', 'cake', 'chair',\n",
    "                           'couch', 'potted plant', 'bed', 'dining table', 'toilet', 'tv',\n",
    "                           'laptop', 'mouse', 'remote', 'keyboard', 'cell phone', 'microwave',\n",
    "                           'oven', 'toaster', 'sink', 'refrigerator', 'book', 'clock', 'vase',\n",
    "                           'scissors', 'teddy bear', 'hair drier', 'toothbrush'),\n",
    "                colors = ('black', 'blue', 'brown', 'green', 'grey', 'orange_', 'pink', 'purple',\n",
    "                          'red', 'white', 'yellow'),\n",
    "                row_str = [\"0\", \"1\", \"2\", \"3\", \"4\", \"5\", \"6\"],\n",
    "                col_str = [\"a\", \"b\", \"c\", \"d\", \"e\", \"f\", \"g\"]):\n",
    "        self.classes = classes\n",
    "        self.colors = colors\n",
    "        self.classes2idx = dict()\n",
    "        for i, class_ in enumerate(classes):\n",
    "            self.classes2idx[class_] = i\n",
    "        self.n_row = len(row_str)\n",
    "        self.n_col = len(col_str)\n",
    "\n",
    "        x_pts = np.linspace(0, 1, self.n_row+1)\n",
    "        y_pts = np.linspace(0, 1, self.n_col+1)\n",
    "\n",
    "        self.grid_bboxes = []\n",
    "        self.grid_labels = []\n",
    "        for i in range(self.n_row):\n",
    "            for j in range(self.n_col):\n",
    "                label = col_str[j] + row_str[i]\n",
    "                self.grid_bboxes.append([x_pts[j], y_pts[i], x_pts[j+1], y_pts[i+1]])\n",
    "                self.grid_labels.append(label)\n",
    "\n",
    "        self.grid_bboxes = np.array(self.grid_bboxes)"
   ]
  },
  {
   "cell_type": "code",
   "execution_count": null,
   "id": "90758054",
   "metadata": {
    "execution": {
     "iopub.execute_input": "2024-09-13T18:04:21.343998Z",
     "iopub.status.busy": "2024-09-13T18:04:21.343015Z",
     "iopub.status.idle": "2024-09-13T18:04:21.351705Z",
     "shell.execute_reply": "2024-09-13T18:04:21.350573Z"
    },
    "papermill": {
     "duration": 0.018037,
     "end_time": "2024-09-13T18:04:21.354093",
     "exception": false,
     "start_time": "2024-09-13T18:04:21.336056",
     "status": "completed"
    },
    "tags": []
   },
   "outputs": [],
   "source": [
    "def match_image_to_pallete(image_colors, pallete_colors, threshold = 0.07):\n",
    "    \"\"\"\n",
    "    Matches colors in the image to the closest colors in the palette.\n",
    "\n",
    "    Parameters:\n",
    "        image_colors (np.ndarray): The image colors in RGB.\n",
    "        palette_colors (list): The list of palette colors in RGB.\n",
    "        threshold (float): Threshold to determine which colors are close enough.\n",
    "\n",
    "    Returns:\n",
    "        np.ndarray: Indices of the colors in the palette that match the image colors.\n",
    "    \"\"\"\n",
    "    #converts RGB to CIE 1976 L*a*b values. The CIELAB color space\n",
    "    #(also known as CIE L*a*b*) is a color space defined by the\n",
    "    #International Commission on Illumination (CIE) in 1976.\n",
    "    h, w, _ = image_colors.shape\n",
    "    n_pixels = h*w\n",
    "\n",
    "    image_colors = rgb2lab(np.uint8(np.asarray(image_colors))).reshape(-1, 1, 3)\n",
    "    pallete_colors = rgb2lab(np.uint8(np.asarray([pallete_colors]))).reshape(-1, 3)\n",
    "\n",
    "    #Euclidean distance between two points in Lab color space.\n",
    "    diff = deltaE_cie76(image_colors, pallete_colors)\n",
    "    color_indices, color_frequencies = np.unique(np.argsort(diff)[:, :2].reshape(-1), return_counts=True)\n",
    "    color_indices = color_indices[color_frequencies > n_pixels*threshold]\n",
    "    return color_indices"
   ]
  },
  {
   "cell_type": "code",
   "execution_count": null,
   "id": "50ecc974",
   "metadata": {
    "execution": {
     "iopub.execute_input": "2024-09-13T18:04:21.367628Z",
     "iopub.status.busy": "2024-09-13T18:04:21.367221Z",
     "iopub.status.idle": "2024-09-13T18:04:21.374052Z",
     "shell.execute_reply": "2024-09-13T18:04:21.372895Z"
    },
    "papermill": {
     "duration": 0.016622,
     "end_time": "2024-09-13T18:04:21.376685",
     "exception": false,
     "start_time": "2024-09-13T18:04:21.360063",
     "status": "completed"
    },
    "tags": []
   },
   "outputs": [],
   "source": [
    "def thread_helper(i, image, h, w):\n",
    "    x0, y0, x1, y1 = grid_bboxes[i]\n",
    "    x0, y0, x1, y1 = int(x0*w), int(y0*h), int(x1*w), int(y1*h)\n",
    "    crop_image = image[y0:y1, x0:x1, :]\n",
    "    color_indices = match_image_to_pallete(crop_image, color_pallette_lst)\n",
    "    for color_idx in color_indices:\n",
    "        context.append(grid_labels[i] + id2colors[color_idx])"
   ]
  },
  {
   "cell_type": "code",
   "execution_count": null,
   "id": "0f977903",
   "metadata": {
    "execution": {
     "iopub.execute_input": "2024-09-13T18:04:21.390184Z",
     "iopub.status.busy": "2024-09-13T18:04:21.389230Z",
     "iopub.status.idle": "2024-09-13T18:04:21.395330Z",
     "shell.execute_reply": "2024-09-13T18:04:21.394421Z"
    },
    "papermill": {
     "duration": 0.014907,
     "end_time": "2024-09-13T18:04:21.397389",
     "exception": false,
     "start_time": "2024-09-13T18:04:21.382482",
     "status": "completed"
    },
    "tags": []
   },
   "outputs": [],
   "source": [
    "encoder = VisualEncoding()\n",
    "grid_bboxes = encoder.grid_bboxes\n",
    "grid_labels = encoder.grid_labels\n",
    "color_pallette_lst = list(color_pallette.values())\n",
    "id2colors = [key for key in color_pallette.keys()]"
   ]
  },
  {
   "cell_type": "code",
   "execution_count": null,
   "id": "53375422",
   "metadata": {
    "execution": {
     "iopub.execute_input": "2024-09-13T18:04:21.410623Z",
     "iopub.status.busy": "2024-09-13T18:04:21.410202Z",
     "iopub.status.idle": "2024-09-14T00:22:01.722037Z",
     "shell.execute_reply": "2024-09-14T00:22:01.721145Z"
    },
    "papermill": {
     "duration": 22660.415251,
     "end_time": "2024-09-14T00:22:01.818517",
     "exception": false,
     "start_time": "2024-09-13T18:04:21.403266",
     "status": "completed"
    },
    "tags": []
   },
   "outputs": [],
   "source": [
    "save_dir_all = 'context_encoded'\n",
    "if not os.path.exists(save_dir_all):\n",
    "    os.mkdir(save_dir_all)\n",
    "\n",
    "save_dir = f'{save_dir_all}/colors_encoded'\n",
    "if not os.path.exists(save_dir):\n",
    "    os.mkdir(save_dir)\n",
    "\n",
    "for key, video_keyframe_paths in tqdm(all_keyframe_paths.items()):\n",
    "    video_ids = sorted(video_keyframe_paths.keys())\n",
    "    if not os.path.exists(os.path.join(save_dir, key)):\n",
    "        os.mkdir(os.path.join(save_dir, key))\n",
    "\n",
    "    for video_id in tqdm(video_ids):\n",
    "        video_color_contexts = []\n",
    "        video_keyframe_path = video_keyframe_paths[video_id]\n",
    "        for image_path in video_keyframe_path:\n",
    "            image = cv2.imread(image_path)\n",
    "            image = cv2.cvtColor(image, cv2.COLOR_BGR2RGB)\n",
    "            h, w, _ = image.shape\n",
    "            context = []\n",
    "            threads = []\n",
    "            for i in range(len(grid_bboxes)):\n",
    "                thread = threading.Thread(target=thread_helper, args=(i, image, h, w))\n",
    "                thread.start()\n",
    "                threads.append(thread)\n",
    "\n",
    "            for i in range(len(grid_bboxes)):\n",
    "                threads[i].join()\n",
    "\n",
    "            context = ' '.join(map(str, context))\n",
    "\n",
    "            video_color_contexts.append(context)\n",
    "\n",
    "        if len(video_color_contexts) != len(video_keyframe_path):\n",
    "            print(\"Something wrong!!!!!\")\n",
    "            break\n",
    "\n",
    "        # Saving the video color context txt\n",
    "        with open(f\"{save_dir}/{key}/{video_id}.txt\", \"w\") as f:\n",
    "            for item in video_color_contexts:\n",
    "                f.write(\"%s\\n\" % item)    "
   ]
  }
 ],
 "metadata": {
  "kaggle": {
   "accelerator": "gpu",
   "dataSources": [
    {
     "datasetId": 5695186,
     "sourceId": 9386469,
     "sourceType": "datasetVersion"
    }
   ],
   "dockerImageVersionId": 30761,
   "isGpuEnabled": true,
   "isInternetEnabled": true,
   "language": "python",
   "sourceType": "notebook"
  },
  "kernelspec": {
   "display_name": "Python 3 (ipykernel)",
   "language": "python",
   "name": "python3"
  },
  "language_info": {
   "codemirror_mode": {
    "name": "ipython",
    "version": 3
   },
   "file_extension": ".py",
   "mimetype": "text/x-python",
   "name": "python",
   "nbconvert_exporter": "python",
   "pygments_lexer": "ipython3",
   "version": "3.9.13"
  },
  "papermill": {
   "default_parameters": {},
   "duration": 22674.374375,
   "end_time": "2024-09-14T00:22:02.524726",
   "environment_variables": {},
   "exception": true,
   "input_path": "__notebook__.ipynb",
   "output_path": "__notebook__.ipynb",
   "parameters": {},
   "start_time": "2024-09-13T18:04:08.150351",
   "version": "2.6.0"
  }
 },
 "nbformat": 4,
 "nbformat_minor": 5
}
