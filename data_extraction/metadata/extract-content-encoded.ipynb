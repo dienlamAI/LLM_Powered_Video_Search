{
 "cells": [
  {
   "cell_type": "code",
   "execution_count": null,
   "id": "aea20a83",
   "metadata": {
    "_cell_guid": "b1076dfc-b9ad-4769-8c92-a6c4dae69d19",
    "_uuid": "8f2839f25d086af736a60e9eeb907d3b93b6e0e5",
    "execution": {
     "iopub.execute_input": "2024-10-14T08:27:37.858832Z",
     "iopub.status.busy": "2024-10-14T08:27:37.858437Z",
     "iopub.status.idle": "2024-10-14T08:27:54.158751Z",
     "shell.execute_reply": "2024-10-14T08:27:54.157565Z"
    },
    "papermill": {
     "duration": 16.308959,
     "end_time": "2024-10-14T08:27:54.161115",
     "exception": false,
     "start_time": "2024-10-14T08:27:37.852156",
     "status": "completed"
    },
    "tags": []
   },
   "outputs": [],
   "source": [
    "!pip install -q ultralytics"
   ]
  },
  {
   "cell_type": "code",
   "execution_count": null,
   "id": "b722d841",
   "metadata": {
    "execution": {
     "iopub.execute_input": "2024-10-14T08:27:54.171618Z",
     "iopub.status.busy": "2024-10-14T08:27:54.171271Z",
     "iopub.status.idle": "2024-10-14T08:28:02.225410Z",
     "shell.execute_reply": "2024-10-14T08:28:02.224596Z"
    },
    "papermill": {
     "duration": 8.061721,
     "end_time": "2024-10-14T08:28:02.227629",
     "exception": false,
     "start_time": "2024-10-14T08:27:54.165908",
     "status": "completed"
    },
    "tags": []
   },
   "outputs": [],
   "source": [
    "import os\n",
    "import glob\n",
    "import cv2\n",
    "import torch\n",
    "import numpy as np\n",
    "from ultralytics import YOLO\n",
    "from tqdm.notebook import tqdm\n",
    "import matplotlib.pyplot as plt\n",
    "from torchvision.ops import box_iou"
   ]
  },
  {
   "cell_type": "code",
   "execution_count": null,
   "id": "b47afc91",
   "metadata": {
    "execution": {
     "iopub.execute_input": "2024-10-14T08:28:02.238375Z",
     "iopub.status.busy": "2024-10-14T08:28:02.237643Z",
     "iopub.status.idle": "2024-10-14T08:28:05.872041Z",
     "shell.execute_reply": "2024-10-14T08:28:05.871099Z"
    },
    "papermill": {
     "duration": 3.642469,
     "end_time": "2024-10-14T08:28:05.874806",
     "exception": false,
     "start_time": "2024-10-14T08:28:02.232337",
     "status": "completed"
    },
    "tags": []
   },
   "outputs": [],
   "source": [
    "keyframes_dir = '/kaggle/input/keyframes-extra-aic2024-v3'\n",
    "all_keyframe_paths = dict()\n",
    "for part in sorted(os.listdir(keyframes_dir)):\n",
    "    data_part = part #.split('_')[-1] # L01, L02 for ex\n",
    "    print(data_part)\n",
    "    all_keyframe_paths[data_part] =  dict()\n",
    "\n",
    "for data_part in sorted(all_keyframe_paths.keys()):\n",
    "    data_part_path = f'{keyframes_dir}/{data_part}/keyframes'\n",
    "    video_dirs = sorted(os.listdir(data_part_path))\n",
    "    video_ids = [video_dir.split('_')[-1] for video_dir in video_dirs]\n",
    "    for video_id, video_dir in zip(video_ids, video_dirs):\n",
    "        keyframe_paths = sorted(glob.glob(f'{data_part_path}/{video_dir}/*.jpg'))\n",
    "        all_keyframe_paths[data_part][video_id] = keyframe_paths"
   ]
  },
  {
   "cell_type": "code",
   "execution_count": null,
   "id": "b5659405",
   "metadata": {
    "execution": {
     "iopub.execute_input": "2024-10-14T08:28:05.889027Z",
     "iopub.status.busy": "2024-10-14T08:28:05.888703Z",
     "iopub.status.idle": "2024-10-14T08:28:05.895733Z",
     "shell.execute_reply": "2024-10-14T08:28:05.894805Z"
    },
    "papermill": {
     "duration": 0.01635,
     "end_time": "2024-10-14T08:28:05.897883",
     "exception": false,
     "start_time": "2024-10-14T08:28:05.881533",
     "status": "completed"
    },
    "tags": []
   },
   "outputs": [],
   "source": [
    "all_keyframe_paths['Keyframes_L30'].keys()"
   ]
  },
  {
   "cell_type": "code",
   "execution_count": null,
   "id": "8f169f17",
   "metadata": {
    "execution": {
     "iopub.execute_input": "2024-10-14T08:28:05.908622Z",
     "iopub.status.busy": "2024-10-14T08:28:05.908316Z",
     "iopub.status.idle": "2024-10-14T08:28:06.045852Z",
     "shell.execute_reply": "2024-10-14T08:28:06.044900Z"
    },
    "papermill": {
     "duration": 0.145888,
     "end_time": "2024-10-14T08:28:06.048337",
     "exception": false,
     "start_time": "2024-10-14T08:28:05.902449",
     "status": "completed"
    },
    "tags": []
   },
   "outputs": [],
   "source": [
    "class VisualEncoding:\n",
    "    def __init__(self,\n",
    "                classes = ('person', 'bicycle', 'car', 'motorcycle', 'airplane', 'bus', 'train',\n",
    "                           'truck', 'boat', 'traffic light', 'fire hydrant', 'stop sign',\n",
    "                           'parking meter', 'bench', 'bird', 'cat', 'dog', 'horse', 'sheep',\n",
    "                           'cow', 'elephant', 'bear', 'zebra', 'giraffe', 'backpack', 'umbrella',\n",
    "                           'handbag', 'tie', 'suitcase', 'frisbee', 'skis', 'snowboard',\n",
    "                           'sports ball', 'kite', 'baseball bat', 'baseball glove', 'skateboard',\n",
    "                           'surfboard', 'tennis racket', 'bottle', 'wine glass', 'cup', 'fork',\n",
    "                           'knife', 'spoon', 'bowl', 'banana', 'apple', 'sandwich', 'orange',\n",
    "                           'broccoli', 'carrot', 'hot dog', 'pizza', 'donut', 'cake', 'chair',\n",
    "                           'couch', 'potted plant', 'bed', 'dining table', 'toilet', 'tv',\n",
    "                           'laptop', 'mouse', 'remote', 'keyboard', 'cell phone', 'microwave',\n",
    "                           'oven', 'toaster', 'sink', 'refrigerator', 'book', 'clock', 'vase',\n",
    "                           'scissors', 'teddy bear', 'hair drier', 'toothbrush'),\n",
    "                colors = ('black', 'blue', 'brown', 'green', 'grey', 'orange_', 'pink', 'purple',\n",
    "                          'red', 'white', 'yellow'),\n",
    "                row_str = [\"0\", \"1\", \"2\", \"3\", \"4\", \"5\", \"6\"],\n",
    "                col_str = [\"a\", \"b\", \"c\", \"d\", \"e\", \"f\", \"g\"]):\n",
    "        \n",
    "        self.classes = classes\n",
    "        self.colors = colors\n",
    "        self.classes2idx = dict()\n",
    "        for i, class_ in enumerate(classes):\n",
    "            self.classes2idx[class_] = i\n",
    "        self.n_row = len(row_str)\n",
    "        self.n_col = len(col_str)\n",
    "\n",
    "        x_pts = np.linspace(0, 1, self.n_row+1)\n",
    "        y_pts = np.linspace(0, 1, self.n_col+1)\n",
    "\n",
    "        self.grid_bboxes = []\n",
    "        self.grid_labels = []\n",
    "        for i in range(self.n_row):\n",
    "            for j in range(self.n_col):\n",
    "                label = col_str[j] + row_str[i]\n",
    "                self.grid_bboxes.append([x_pts[j], y_pts[i], x_pts[j+1], y_pts[i+1]])\n",
    "                self.grid_labels.append(label)\n",
    "\n",
    "        self.grid_bboxes = np.array(self.grid_bboxes)\n",
    "\n",
    "    def visualize_grid(self, grid_vis=None):\n",
    "        if grid_vis is None:\n",
    "            grid_vis = np.zeros((500, 500, 1))\n",
    "\n",
    "        vis_h, vis_w, _ = grid_vis.shape\n",
    "        font = cv2.FONT_HERSHEY_SIMPLEX\n",
    "        fontScale = 0.5\n",
    "        color = (255, 0, 0)\n",
    "        thickness = 2\n",
    "        for i in range(self.n_row*self.n_col):\n",
    "            x_start, y_start, x_end, y_end = self.grid_bboxes[i]\n",
    "            label = self.grid_labels[i]\n",
    "            org = (int((x_start + (x_end-x_start)/2)*vis_w), int((y_start + (y_end-y_start)/2)*vis_h))\n",
    "\n",
    "            # Draw text\n",
    "            grid_vis = cv2.putText(grid_vis, label, org, font, fontScale, color, thickness, cv2.LINE_AA)\n",
    "            # Draw grid\n",
    "            grid_vis = cv2.rectangle(grid_vis, (int(x_start*vis_w), int(y_start*vis_h)), (int(x_end*vis_w), int(y_end*vis_h)), color, thickness)\n",
    "        plt.imshow(grid_vis)\n",
    "\n",
    "    def encode_bboxes(self, bboxes, labels):\n",
    "        '''\n",
    "        Args:\n",
    "            bboxes: np.array: (n_bboxes, 4) - expected normalized bbox in form (x0, y0, x1, y1)\n",
    "            labels: np.array: (n_bboxes, )\n",
    "        '''\n",
    "        iou = box_iou(torch.as_tensor(bboxes), torch.as_tensor(self.grid_bboxes))\n",
    "        bboxes_idx, locs_idx = np.nonzero(iou.numpy())\n",
    "\n",
    "        context = []\n",
    "        for bbox_idx, loc_idx in zip(bboxes_idx, locs_idx):\n",
    "            context.append(self.grid_labels[loc_idx] + self.classes[labels[bbox_idx]].replace(\" \", \"\"))\n",
    "        context = ' '.join(map(str, context))\n",
    "        return context\n",
    "\n",
    "    def encode_classes(self, labels):\n",
    "        '''\n",
    "        Args:\n",
    "            labels: np.array: (n_bboxes, )\n",
    "        '''\n",
    "        return ''\n",
    "#         unique_classes, counts = np.unique(labels, return_counts=True)\n",
    "#         context = []\n",
    "#         for unique_class, count in zip(unique_classes, counts):\n",
    "#             for i in range(count):\n",
    "#                 context.append(self.classes[unique_class].replace(\" \", \"\") + str(i))\n",
    "#         context = ' '.join(map(str, context))\n",
    "#         return context\n",
    "\n",
    "    def encode_numbers(self, labels):\n",
    "        '''\n",
    "        Args:\n",
    "            labels: np.array: (n_bboxes, )\n",
    "        '''\n",
    "        unique_classes, counts = np.unique(labels, return_counts=True)\n",
    "        context = []\n",
    "        for unique_class, count in zip(unique_classes, counts):\n",
    "            context.append(self.classes[unique_class].replace(\" \", \"\") + str(count))\n",
    "        context = ' '.join(map(str, context))\n",
    "        return context\n",
    "  \n",
    "    def encode_colors(self, bboxes, colors):\n",
    "        '''\n",
    "        Args:\n",
    "            bboxes: np.array: (n_bboxes, 4) - expected normalized bbox in form (x0, y0, x1, y1)\n",
    "            colors: np.array: (n_bboxes, )\n",
    "        '''\n",
    "        iou = box_iou(torch.as_tensor(bboxes), torch.as_tensor(self.grid_bboxes))\n",
    "        bboxes_idx, locs_idx = np.nonzero(iou.numpy())\n",
    "\n",
    "        context = []\n",
    "        for bbox_idx, loc_idx in zip(bboxes_idx, locs_idx):\n",
    "            context.append(self.grid_labels[loc_idx] + colors[bbox_idx].replace(\"_\", \"\"))\n",
    "        context = ' '.join(map(str, context))\n",
    "        return context\n",
    "\n",
    "    def encode(self, bboxes=None, labels=None, bboxes_colors=None, colors=None):\n",
    "        '''\n",
    "        Args:\n",
    "            bboxes: np.array: (n_bboxes, 4) - expected normalized bbox in form (x0, y0, x1, y1)\n",
    "            labels: np.array: (n_bboxes, )\n",
    "        '''\n",
    "        results = dict()\n",
    "        if bboxes is not None:\n",
    "            results['bbox'] = self.encode_bboxes(bboxes, labels)\n",
    "            results['class'] = self.encode_classes(labels)\n",
    "        else:\n",
    "            results['bbox'] = results['class'] = None\n",
    "\n",
    "        if bboxes_colors is not None:\n",
    "            results['color'] = self.encode_colors(bboxes_colors, colors)\n",
    "        else:\n",
    "            results['color'] = None\n",
    "\n",
    "        return results"
   ]
  },
  {
   "cell_type": "code",
   "execution_count": null,
   "id": "0b4ce6e6",
   "metadata": {
    "execution": {
     "iopub.execute_input": "2024-10-14T08:28:06.060350Z",
     "iopub.status.busy": "2024-10-14T08:28:06.060027Z",
     "iopub.status.idle": "2024-10-14T08:28:11.878231Z",
     "shell.execute_reply": "2024-10-14T08:28:11.877375Z"
    },
    "papermill": {
     "duration": 5.827108,
     "end_time": "2024-10-14T08:28:11.880858",
     "exception": false,
     "start_time": "2024-10-14T08:28:06.053750",
     "status": "completed"
    },
    "tags": []
   },
   "outputs": [],
   "source": [
    "device = torch.device(\"cuda\" if torch.cuda.is_available() else \"cpu\")\n",
    "model = YOLO('yolov10x.pt')  # pretrained YOLOv8n model"
   ]
  },
  {
   "cell_type": "code",
   "execution_count": null,
   "id": "f3438e61",
   "metadata": {
    "execution": {
     "iopub.execute_input": "2024-10-14T08:28:11.937873Z",
     "iopub.status.busy": "2024-10-14T08:28:11.937568Z",
     "iopub.status.idle": "2024-10-14T08:30:55.095714Z",
     "shell.execute_reply": "2024-10-14T08:30:55.094714Z"
    },
    "papermill": {
     "duration": 163.169147,
     "end_time": "2024-10-14T08:30:55.099507",
     "exception": false,
     "start_time": "2024-10-14T08:28:11.930360",
     "status": "completed"
    },
    "tags": []
   },
   "outputs": [],
   "source": [
    "import os\n",
    "from tqdm import tqdm\n",
    "from PIL import UnidentifiedImageError\n",
    "\n",
    "bs = 64\n",
    "save_dirs = [\"./context_encoded/bboxes_encoded\",  \"./context_encoded/number_encoded\"] #\"./context_encoded/classes_encoded\",\n",
    "encoder = VisualEncoding()\n",
    "\n",
    "# Ensure all necessary directories exist\n",
    "for save_dir in save_dirs:\n",
    "    os.makedirs(save_dir, exist_ok=True)\n",
    "\n",
    "for key, video_keyframe_paths in tqdm(all_keyframe_paths.items()):\n",
    "    video_ids = sorted(video_keyframe_paths.keys())\n",
    "    \n",
    "    # Create subdirectories for each key inside the save_dirs\n",
    "    for save_dir in save_dirs:\n",
    "        key_dir = os.path.join(save_dir, key)\n",
    "        os.makedirs(key_dir, exist_ok=True)\n",
    "    \n",
    "    for video_id in tqdm(video_ids):\n",
    "        video_keyframe_path = video_keyframe_paths[video_id]\n",
    "        video_encoded_bboxes, video_encoded_classes, video_encoded_numbers = [], [], []\n",
    "        for i in range(0, len(video_keyframe_path), bs):\n",
    "            image_paths = video_keyframe_path[i:i+bs]\n",
    "            try:\n",
    "                results = model(image_paths, conf=0.5, device=device, verbose=False)  # return a list of Results objects\n",
    "            except Exception as e:\n",
    "                print(e)\n",
    "            \n",
    "            for result in results:\n",
    "                bboxes = result.boxes.xyxyn.cpu().numpy().copy()\n",
    "                labels = result.boxes.cls.cpu().numpy().copy().astype(int)\n",
    "                if len(bboxes) == 0:\n",
    "                    video_encoded_bboxes.append(\"\")\n",
    "                    video_encoded_numbers.append(\"\")\n",
    "                else:\n",
    "                    video_encoded_bboxes.append(encoder.encode_bboxes(bboxes, labels))\n",
    "                    video_encoded_numbers.append(encoder.encode_numbers(labels))\n",
    "        \n",
    "        # Save the encoded data to the appropriate directories\n",
    "        bbox_file_path = os.path.join(save_dirs[0], key, f\"{video_id}.txt\")\n",
    "        number_file_path = os.path.join(save_dirs[1], key, f\"{video_id}.txt\")\n",
    "        \n",
    "        try:\n",
    "            with open(bbox_file_path, \"w\") as f:\n",
    "                for item in video_encoded_bboxes:\n",
    "                    f.write(\"%s\\n\" % item)\n",
    "            with open(number_file_path, \"w\") as f:\n",
    "                for item in video_encoded_numbers:\n",
    "                    f.write(\"%s\\n\" % item)\n",
    "        except IOError as e:\n",
    "            print(f\"Error writing to file: {e}\")"
   ]
  },
  {
   "cell_type": "code",
   "execution_count": null,
   "id": "be9176e7",
   "metadata": {
    "execution": {
     "iopub.execute_input": "2024-10-14T08:30:56.000146Z",
     "iopub.status.busy": "2024-10-14T08:30:55.999775Z",
     "iopub.status.idle": "2024-10-14T08:30:57.010838Z",
     "shell.execute_reply": "2024-10-14T08:30:57.009528Z"
    },
    "papermill": {
     "duration": 1.154528,
     "end_time": "2024-10-14T08:30:57.013067",
     "exception": false,
     "start_time": "2024-10-14T08:30:55.858539",
     "status": "completed"
    },
    "tags": []
   },
   "outputs": [],
   "source": [
    "!rm /kaggle/working/yolov10x.pt"
   ]
  }
 ],
 "metadata": {
  "kaggle": {
   "accelerator": "gpu",
   "dataSources": [
    {
     "datasetId": 5859200,
     "sourceId": 9609217,
     "sourceType": "datasetVersion"
    },
    {
     "datasetId": 5869189,
     "sourceId": 9617133,
     "sourceType": "datasetVersion"
    }
   ],
   "dockerImageVersionId": 30762,
   "isGpuEnabled": true,
   "isInternetEnabled": true,
   "language": "python",
   "sourceType": "notebook"
  },
  "kernelspec": {
   "display_name": "Python 3 (ipykernel)",
   "language": "python",
   "name": "python3"
  },
  "language_info": {
   "codemirror_mode": {
    "name": "ipython",
    "version": 3
   },
   "file_extension": ".py",
   "mimetype": "text/x-python",
   "name": "python",
   "nbconvert_exporter": "python",
   "pygments_lexer": "ipython3",
   "version": "3.9.13"
  },
  "papermill": {
   "default_parameters": {},
   "duration": 205.185128,
   "end_time": "2024-10-14T08:30:59.372387",
   "environment_variables": {},
   "exception": true,
   "input_path": "__notebook__.ipynb",
   "output_path": "__notebook__.ipynb",
   "parameters": {},
   "start_time": "2024-10-14T08:27:34.187259",
   "version": "2.6.0"
  }
 },
 "nbformat": 4,
 "nbformat_minor": 5
}
